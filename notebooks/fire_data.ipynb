{
 "cells": [
  {
   "cell_type": "markdown",
   "metadata": {},
   "source": [
    "# Assessing fire risk by location in NYC\n",
    "\n",
    "## Background\n",
    "Using data provided by NYC OpenData, this notebook walks through the steps of analyzing fire risk in New York City."
   ]
  },
  {
   "cell_type": "markdown",
   "metadata": {},
   "source": [
    "## Import Libraries"
   ]
  },
  {
   "cell_type": "code",
   "execution_count": null,
   "metadata": {},
   "outputs": [],
   "source": [
    "# Data analysis and visualization\n",
    "import numpy as np\n",
    "import pandas as pd\n",
    "import seaborn as sns\n",
    "import matplotlib.pyplot as plt\n",
    "import datetime as dt\n",
    "\n",
    "# Interactive maps\n",
    "import folium\n",
    "from folium.plugins import HeatMap\n",
    "\n",
    "# Machine Learning\n",
    "from sklearn.ensemble import RandomForestClassifier\n",
    "from sklearn.metrics import roc_curve, roc_auc_score, auc\n",
    "from sklearn.model_selection import cross_val_score, GridSearchCV\n",
    "from sklearn.feature_selection import SelectKBest, f_classif\n",
    "from sklearn.pipeline import Pipeline"
   ]
  },
  {
   "cell_type": "markdown",
   "metadata": {},
   "source": [
    "## Load and describe data\n",
    "\n",
    "Note: Data was filtered on the NYC OpenData site to only include incident classification groups that were fire-related (Structural and NonStructural Fires) prior to export."
   ]
  },
  {
   "cell_type": "code",
   "execution_count": 3,
   "metadata": {
    "scrolled": true
   },
   "outputs": [
    {
     "data": {
      "text/html": [
       "<div>\n",
       "<style scoped>\n",
       "    .dataframe tbody tr th:only-of-type {\n",
       "        vertical-align: middle;\n",
       "    }\n",
       "\n",
       "    .dataframe tbody tr th {\n",
       "        vertical-align: top;\n",
       "    }\n",
       "\n",
       "    .dataframe thead th {\n",
       "        text-align: right;\n",
       "    }\n",
       "</style>\n",
       "<table border=\"1\" class=\"dataframe\">\n",
       "  <thead>\n",
       "    <tr style=\"text-align: right;\">\n",
       "      <th></th>\n",
       "      <th>STARFIRE_INCIDENT_ID</th>\n",
       "      <th>INCIDENT_DATETIME</th>\n",
       "      <th>ALARM_BOX_BOROUGH</th>\n",
       "      <th>ALARM_BOX_NUMBER</th>\n",
       "      <th>ALARM_BOX_LOCATION</th>\n",
       "      <th>LATITUDE</th>\n",
       "      <th>LONGITUDE</th>\n",
       "      <th>INCIDENT_BOROUGH</th>\n",
       "      <th>ZIPCODE</th>\n",
       "      <th>INCIDENT_CLASSIFICATION</th>\n",
       "      <th>...</th>\n",
       "      <th>DISPATCH_RESPONSE_SECONDS_QY</th>\n",
       "      <th>INCIDENT_RESPONSE_SECONDS_QY</th>\n",
       "      <th>INCIDENT_TRAVEL_TM_SECONDS_QY</th>\n",
       "      <th>ENGINES_ASSIGNED_QUANTITY</th>\n",
       "      <th>LADDERS_ASSIGNED_QUANTITY</th>\n",
       "      <th>OTHER_UNITS_ASSIGNED_QUANTITY</th>\n",
       "      <th>Column 17</th>\n",
       "      <th>Column 18</th>\n",
       "      <th>Column 19</th>\n",
       "      <th>Column 20</th>\n",
       "    </tr>\n",
       "  </thead>\n",
       "  <tbody>\n",
       "    <tr>\n",
       "      <th>0</th>\n",
       "      <td>1.803730e+15</td>\n",
       "      <td>2018-02-06 03:40:00</td>\n",
       "      <td>BROOKLYN</td>\n",
       "      <td>2653</td>\n",
       "      <td>3 AVE &amp; 65 ST</td>\n",
       "      <td>40.63932</td>\n",
       "      <td>-74.023549</td>\n",
       "      <td>BROOKLYN</td>\n",
       "      <td>11220</td>\n",
       "      <td>Automobile Fire</td>\n",
       "      <td>...</td>\n",
       "      <td>6</td>\n",
       "      <td>363</td>\n",
       "      <td>357</td>\n",
       "      <td>2</td>\n",
       "      <td>2</td>\n",
       "      <td>0</td>\n",
       "      <td></td>\n",
       "      <td></td>\n",
       "      <td></td>\n",
       "      <td>1899-12-30</td>\n",
       "    </tr>\n",
       "    <tr>\n",
       "      <th>1</th>\n",
       "      <td>1.819430e+15</td>\n",
       "      <td>2018-07-13 13:55:00</td>\n",
       "      <td>BROOKLYN</td>\n",
       "      <td>2653</td>\n",
       "      <td>3 AVE &amp; 65 ST</td>\n",
       "      <td>40.63932</td>\n",
       "      <td>-74.023549</td>\n",
       "      <td>BROOKLYN</td>\n",
       "      <td>11220</td>\n",
       "      <td>Multiple Dwelling 'A' - Other fire</td>\n",
       "      <td>...</td>\n",
       "      <td>33</td>\n",
       "      <td>227</td>\n",
       "      <td>194</td>\n",
       "      <td>3</td>\n",
       "      <td>2</td>\n",
       "      <td>1</td>\n",
       "      <td></td>\n",
       "      <td></td>\n",
       "      <td></td>\n",
       "      <td>1899-12-30</td>\n",
       "    </tr>\n",
       "    <tr>\n",
       "      <th>2</th>\n",
       "      <td>1.821830e+15</td>\n",
       "      <td>2018-08-06 06:32:00</td>\n",
       "      <td>BROOKLYN</td>\n",
       "      <td>2653</td>\n",
       "      <td>3 AVE &amp; 65 ST</td>\n",
       "      <td>40.63932</td>\n",
       "      <td>-74.023549</td>\n",
       "      <td>BROOKLYN</td>\n",
       "      <td>11220</td>\n",
       "      <td>Demolition Debris or Rubbish Fire</td>\n",
       "      <td>...</td>\n",
       "      <td>36</td>\n",
       "      <td>191</td>\n",
       "      <td>155</td>\n",
       "      <td>3</td>\n",
       "      <td>2</td>\n",
       "      <td>1</td>\n",
       "      <td></td>\n",
       "      <td></td>\n",
       "      <td></td>\n",
       "      <td>1899-12-30</td>\n",
       "    </tr>\n",
       "  </tbody>\n",
       "</table>\n",
       "<p>3 rows × 21 columns</p>\n",
       "</div>"
      ],
      "text/plain": [
       "   STARFIRE_INCIDENT_ID   INCIDENT_DATETIME ALARM_BOX_BOROUGH  \\\n",
       "0          1.803730e+15 2018-02-06 03:40:00          BROOKLYN   \n",
       "1          1.819430e+15 2018-07-13 13:55:00          BROOKLYN   \n",
       "2          1.821830e+15 2018-08-06 06:32:00          BROOKLYN   \n",
       "\n",
       "   ALARM_BOX_NUMBER ALARM_BOX_LOCATION  LATITUDE  LONGITUDE INCIDENT_BOROUGH  \\\n",
       "0              2653      3 AVE & 65 ST  40.63932 -74.023549         BROOKLYN   \n",
       "1              2653      3 AVE & 65 ST  40.63932 -74.023549         BROOKLYN   \n",
       "2              2653      3 AVE & 65 ST  40.63932 -74.023549         BROOKLYN   \n",
       "\n",
       "   ZIPCODE             INCIDENT_CLASSIFICATION  ...  \\\n",
       "0    11220                     Automobile Fire  ...   \n",
       "1    11220  Multiple Dwelling 'A' - Other fire  ...   \n",
       "2    11220   Demolition Debris or Rubbish Fire  ...   \n",
       "\n",
       "  DISPATCH_RESPONSE_SECONDS_QY  INCIDENT_RESPONSE_SECONDS_QY  \\\n",
       "0                            6                           363   \n",
       "1                           33                           227   \n",
       "2                           36                           191   \n",
       "\n",
       "   INCIDENT_TRAVEL_TM_SECONDS_QY  ENGINES_ASSIGNED_QUANTITY  \\\n",
       "0                            357                          2   \n",
       "1                            194                          3   \n",
       "2                            155                          3   \n",
       "\n",
       "   LADDERS_ASSIGNED_QUANTITY  OTHER_UNITS_ASSIGNED_QUANTITY  Column 17  \\\n",
       "0                          2                              0              \n",
       "1                          2                              1              \n",
       "2                          2                              1              \n",
       "\n",
       "  Column 18 Column 19  Column 20  \n",
       "0                     1899-12-30  \n",
       "1                     1899-12-30  \n",
       "2                     1899-12-30  \n",
       "\n",
       "[3 rows x 21 columns]"
      ]
     },
     "execution_count": 3,
     "metadata": {},
     "output_type": "execute_result"
    }
   ],
   "source": [
    "# Connection to azure database \n",
    "# import pandas as pd, pyodbc\n",
    "# server = 'finalprojectdata.database.windows.net'\n",
    "# database = 'v2-project-data'\n",
    "# username = 'finalproject1_pmprybylski'\n",
    "# password = 'firedispatch1!'\n",
    "# driver= '{ODBC Driver 17 for SQL Server}'\n",
    "# # con_string = 'DRIVER='+driver+';SERVER='+server+';PORT=1433;DATABASE='+database+';UID='+username+';PWD='+ password\n",
    "# # con_string = 'DRIVER={SQL Server};SERVER='+ <server> +';DATABASE=' + <database>\n",
    "# # cnxn = pyodbc.connect(con_string)\n",
    "# cnxn = pyodbc.connect(\n",
    "#     'DRIVER={ODBC Driver 17 for SQL Server};'\n",
    "#     'SERVER=finalprojectdata.database.windows.net;'\n",
    "#     'PORT=1433;'\n",
    "#     'DATABASE=v2-project-data;'\n",
    "#     'UID=finalproject1_pmprybylski;'\n",
    "#     'PWD=firedispatch1!;'\n",
    "# )\n",
    "# query = \"\"\"\n",
    "# SELECT TOP 3 * FROM cleaned_fire_dispatch_data\n",
    "# \"\"\"\n",
    "# result_port_map = pd.read_sql(query, cnxn)\n",
    "# result_port_map"
   ]
  },
  {
   "cell_type": "code",
   "execution_count": null,
   "metadata": {},
   "outputs": [],
   "source": [
    "# Load the data into Python\n",
    "\n",
    "# Fire Dispatch\n",
    "alarms_df = pd.read_csv('../data/raw/In-Service_Alarm_Box_Locations.csv')\n",
    "fires_df = pd.read_csv('../data/raw/Fire_Incident_Dispatch_Data.csv')\n",
    "\n",
    "# NYPD Complaints\n",
    "nypd1819_df = pd.read_csv('../data/raw/2018_19_crime_data.csv')\n",
    "nypd2021_df = pd.read_csv('../data/raw/2020_21_crime_data.csv')\n",
    "\n",
    "# DOB/ECB Violations\n",
    "DOB18_df = pd."
   ]
  },
  {
   "cell_type": "code",
   "execution_count": null,
   "metadata": {
    "scrolled": true
   },
   "outputs": [],
   "source": []
  },
  {
   "cell_type": "code",
   "execution_count": null,
   "metadata": {
    "scrolled": true
   },
   "outputs": [],
   "source": []
  },
  {
   "cell_type": "code",
   "execution_count": null,
   "metadata": {},
   "outputs": [],
   "source": [
    "merged = pd.merge(left=alarms_data, right=fires_data, left_on='LOCATION', right_on='ALARM_BOX_LOCATION')\n",
    "merged.head()"
   ]
  },
  {
   "cell_type": "code",
   "execution_count": null,
   "metadata": {},
   "outputs": [],
   "source": [
    "# Remove unnecessary columns\n",
    "data = merged[['STARFIRE_INCIDENT_ID',\n",
    "               'INCIDENT_DATETIME',\n",
    "               'ALARM_BOX_BOROUGH',\n",
    "               'ALARM_BOX_NUMBER',\n",
    "               'ALARM_BOX_LOCATION',\n",
    "               'LATITUDE',\n",
    "               'LONGITUDE',\n",
    "               'INCIDENT_BOROUGH',\n",
    "               'ZIPCODE',\n",
    "               'INCIDENT_CLASSIFICATION',\n",
    "               'INCIDENT_CLASSIFICATION_GROUP',\n",
    "               'DISPATCH_RESPONSE_SECONDS_QY',\n",
    "               'INCIDENT_RESPONSE_SECONDS_QY',\n",
    "               'INCIDENT_TRAVEL_TM_SECONDS_QY',\n",
    "               'ENGINES_ASSIGNED_QUANTITY',\n",
    "               'LADDERS_ASSIGNED_QUANTITY',\n",
    "               'OTHER_UNITS_ASSIGNED_QUANTITY',]]\n",
    "data.head()"
   ]
  },
  {
   "cell_type": "code",
   "execution_count": null,
   "metadata": {},
   "outputs": [],
   "source": [
    "# Export cleaned data to csv\n",
    "data.to_csv('../data/processed/cleaned_fire_dispatch_data.csv', index=False)"
   ]
  },
  {
   "cell_type": "markdown",
   "metadata": {},
   "source": [
    "## Mapping alarm boxes"
   ]
  },
  {
   "cell_type": "code",
   "execution_count": null,
   "metadata": {},
   "outputs": [],
   "source": [
    "# # Visualizing fire incidents in a map\n",
    "# fire_map = folium.Map(location=[40.73, -73.94], zoom_start=14, tiles='Stamen Terrain')\n",
    "# heat = building_fires[['LATITUDE', 'LONGITUDE']]\n",
    "# heat = heat.dropna(axis=0, subset=['LATITUDE', 'LONGITUDE'])\n",
    "# heat_data = [[row['LATITUDE'], row['LONGITUDE']]for index, row in heat.iterrows()]\n",
    "# HeatMap(heat_data).add_to(fire_map)\n",
    "# fire_map"
   ]
  },
  {
   "cell_type": "markdown",
   "metadata": {},
   "source": [
    "## Data Wrangling"
   ]
  },
  {
   "cell_type": "code",
   "execution_count": null,
   "metadata": {},
   "outputs": [],
   "source": [
    "data.info()"
   ]
  },
  {
   "cell_type": "code",
   "execution_count": null,
   "metadata": {},
   "outputs": [],
   "source": [
    "# Convert INCIDENT_DATETIME column to datetime\n",
    "data['INCIDENT_DATETIME'] = data['INCIDENT_DATETIME'].apply(lambda x: dt.datetime.strptime(x,'%m/%d/%Y %I:%M:%S %p'))\n",
    "data.info()"
   ]
  },
  {
   "cell_type": "code",
   "execution_count": null,
   "metadata": {
    "scrolled": true
   },
   "outputs": [],
   "source": [
    "# Add a column that splits off the year\n",
    "data['YEAR'] = data['INCIDENT_DATETIME'].dt.year\n",
    "\n",
    "# Move that column to the beginning of the frame\n",
    "year = data['YEAR']\n",
    "data.drop(labels=['YEAR'], axis=1, inplace=True)\n",
    "data.insert(0,'YEAR', year)\n",
    "data.head()"
   ]
  },
  {
   "cell_type": "code",
   "execution_count": null,
   "metadata": {},
   "outputs": [],
   "source": [
    "# Split out the 2020 & 2021 data\n",
    "data20_21 = data.loc[(data.YEAR == 2020) | (data.YEAR == 2021)]\n",
    "data20_21"
   ]
  },
  {
   "cell_type": "code",
   "execution_count": null,
   "metadata": {},
   "outputs": [],
   "source": [
    "data18_19 = data.loc[(data.YEAR == 2018)|(data.YEAR == 2019)]\n",
    "data18_19"
   ]
  },
  {
   "cell_type": "code",
   "execution_count": null,
   "metadata": {},
   "outputs": [],
   "source": [
    "# Calculate all fire incidents for 2018-2019\n",
    "data18_19.STARFIRE_INCIDENT_ID.value_counts()"
   ]
  },
  {
   "cell_type": "code",
   "execution_count": null,
   "metadata": {},
   "outputs": [],
   "source": []
  },
  {
   "cell_type": "code",
   "execution_count": null,
   "metadata": {},
   "outputs": [],
   "source": []
  }
 ],
 "metadata": {
  "kernelspec": {
   "display_name": "Python [conda env:PythonData] *",
   "language": "python",
   "name": "conda-env-PythonData-py"
  },
  "language_info": {
   "codemirror_mode": {
    "name": "ipython",
    "version": 3
   },
   "file_extension": ".py",
   "mimetype": "text/x-python",
   "name": "python",
   "nbconvert_exporter": "python",
   "pygments_lexer": "ipython3",
   "version": "3.6.10"
  }
 },
 "nbformat": 4,
 "nbformat_minor": 4
}
